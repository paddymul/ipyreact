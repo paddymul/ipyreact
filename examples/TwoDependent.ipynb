{
 "cells": [
  {
   "cell_type": "code",
   "execution_count": 1,
   "id": "aba8b4d5-199f-4fe0-97a2-5a2a3f43cbf2",
   "metadata": {},
   "outputs": [],
   "source": [
    "import ipyreact\n",
    "from traitlets import  Bool, Int, observe"
   ]
  },
  {
   "cell_type": "code",
   "execution_count": 5,
   "id": "b11af66b-f256-4441-8c38-0283866024bd",
   "metadata": {},
   "outputs": [
    {
     "data": {
      "application/vnd.jupyter.widget-view+json": {
       "model_id": "f7a8ca9a583843798695b48905cfb3e5",
       "version_major": 2,
       "version_minor": 0
      },
      "text/plain": [
       "TwoDependentWidget()"
      ]
     },
     "execution_count": 5,
     "metadata": {},
     "output_type": "execute_result"
    }
   ],
   "source": [
    "class TwoDependentWidget(ipyreact.ReactWidget):\n",
    "    #note that when we add these traitlets, they will automatically be made available to the react component\n",
    "    is_even = Bool(True).tag(sync=True)\n",
    "    is_odd = Bool(False).tag(sync=True)\n",
    "    \n",
    "    count = Int(0).tag(sync=True)\n",
    "\n",
    "    #it is key that we also take the change argument, otherwise a hard to find python error will be thrown\n",
    "    @observe('count')\n",
    "    def _observe_count(self, change):\n",
    "        new_val = self.count\n",
    "        if new_val %2 == 0:\n",
    "            self.is_even = True\n",
    "            self.is_odd = False\n",
    "\n",
    "        else:\n",
    "            self.is_even = False\n",
    "            self.is_odd = True\n",
    "\n",
    "    \n",
    "    _esm = \"\"\"\n",
    "    import confetti from \"canvas-confetti\";\n",
    "    import * as React from \"react\";\n",
    "\n",
    "    export default function({on_count, debug, count, is_even, is_odd}) {\n",
    "        return <div><button onClick={() => confetti() && on_count(count + 1)}>\n",
    "            {count} times confetti\n",
    "        </button>\n",
    "        <span>count is even == {is_even.toString()} </span>\n",
    "        <span>count is odd == {is_odd.toString()} </span>\n",
    "    </div>\n",
    "    };\"\"\"\n",
    "tdw = TwoDependentWidget()\n",
    "tdw"
   ]
  },
  {
   "cell_type": "code",
   "execution_count": null,
   "id": "88858dd6-b2dd-4ee9-a22f-3b4a6e698212",
   "metadata": {},
   "outputs": [],
   "source": []
  }
 ],
 "metadata": {
  "kernelspec": {
   "display_name": "Python 3 (ipykernel)",
   "language": "python",
   "name": "python3"
  },
  "language_info": {
   "codemirror_mode": {
    "name": "ipython",
    "version": 3
   },
   "file_extension": ".py",
   "mimetype": "text/x-python",
   "name": "python",
   "nbconvert_exporter": "python",
   "pygments_lexer": "ipython3",
   "version": "3.11.3"
  }
 },
 "nbformat": 4,
 "nbformat_minor": 5
}
